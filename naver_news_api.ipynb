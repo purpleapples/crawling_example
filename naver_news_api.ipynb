{
 "cells": [
  {
   "cell_type": "code",
   "execution_count": 1,
   "metadata": {},
   "outputs": [],
   "source": [
    "from urllib.request import Request, urlopen\n",
    "from urllib.parse import quote\n",
    "\n",
    "# 요청을 위한 id와 secret\n",
    "client_id = \"비밀\"\n",
    "client_secret = \"비밀\"\n",
    "\n",
    "# 검색어 인코딩\n",
    "encText = quote(\"코로나\")\n",
    "url = \"\thttps://openapi.naver.com/v1/search/news.json?query={}\".format( encText) # json 결과\n",
    "# url = \"https://openapi.naver.com/v1/search/blog.xml?query=\" + encText # xml 결과\n",
    "\n",
    "# 요청 생성\n",
    "request = Request(url)\n",
    "# API 접근을 위한 인증 정보를 header에 수록\n",
    "request.add_header(\"X-Naver-Client-Id\",client_id)\n",
    "request.add_header(\"X-Naver-Client-Secret\",client_secret)\n",
    "\n",
    "# 응답\n",
    "response = urlopen(request)\n",
    "rescode = response.getcode()\n",
    "\n",
    "\n",
    "if(rescode==200): # 성공\n",
    "    response_body = response.read()\n",
    "    response_body = response_body.decode('utf-8')\n",
    "else:\n",
    "    print(\"Error Code:\" + rescode)"
   ]
  },
  {
   "cell_type": "code",
   "execution_count": 4,
   "metadata": {},
   "outputs": [
    {
     "name": "stdout",
     "output_type": "stream",
     "text": [
      "산은, 'KDB 넥스트라운드' 400회 라운드 실시 - http://news.heraldcorp.com/view.php?ud=20201006000804\n",
      "증평 김현정씨, 증평군민장학회 장학금 103만원 기탁 - http://www.jbnews.com/news/articleView.html?idxno=1309090\n",
      "괴산 불정면 지역사회보장협의체, 정기회의 개최 - http://www.jbnews.com/news/articleView.html?idxno=1309146\n",
      "국립중앙도서관 '인문열차, 삶을 달리다' 영상으로 누리집, 유튜브 등에서 첫... - http://www.lecturernews.com/news/articleView.html?idxno=53224\n",
      "[국감] 4대 시중은행 지점 통폐합에, 5년간 일자리 7,570개 감소 - http://www.ekoreanews.co.kr/news/articleView.html?idxno=46374\n",
      "'노동' 꺼내든 김종인, 경제 정책은 소신대로 간다 - http://www.mediapen.com/news/view/563532\n",
      "게임빌-컴투스, 하반기 신입 공채, 주제는 '언택트 온에어' - http://www.ekoreanews.co.kr/news/articleView.html?idxno=46376\n",
      "추석 귀성·성묘 자제 '무색'…與, 봉하 참배엔 \"깨시민·공적 활동\" - https://www.hankyung.com/politics/article/2020100694747\n",
      "[마켓인사이트]라살, 6000억원 규모 유럽부동산대출펀드 1차 펀딩 완료 - https://www.hankyung.com/finance/article/202010068293u\n",
      "중국이 2조원에 사들인 美 뉴욕 호텔, 소장품 1만5000점 '경매' - https://biz.chosun.com/site/data/html_dir/2020/10/06/2020100601909.html?utm_source=naver&utm_medium=original&utm_campaign=biz\n"
     ]
    }
   ],
   "source": [
    "# isjon text -> json object\n",
    "import json\n",
    "import re\n",
    "from html import unescape # html 특수 문자 -> 원래 문자로\n",
    "\n",
    "json_obj = json.loads(response_body)\n",
    "#print(\"JSON:\",  json_obj)  # dict type이다.\n",
    "json_items = json_obj[\"items\"]\n",
    "#print(json_items)\n",
    "\n",
    "# title과 description내의 태그 제거\n",
    "\n",
    "def remove_tag(html):\n",
    "    \n",
    "    tag_pattern = re.compile(r\"<[^>]+>\")\n",
    "    return tag_pattern.sub('', unescape(html))\n",
    "\n",
    "news_list = []\n",
    "for item in json_items:\n",
    "    news = {\n",
    "        \"title\" : remove_tag(item[\"title\"]),\n",
    "        \"link\" : item[\"originallink\"],\n",
    "        \"description\": remove_tag(item[\"description\"])\n",
    "    }\n",
    "    news_list.append(news)\n",
    "\n",
    "for news in news_list:\n",
    "    print(\"{title} - {link}\".format_map(news))"
   ]
  },
  {
   "cell_type": "code",
   "execution_count": null,
   "metadata": {},
   "outputs": [],
   "source": []
  }
 ],
 "metadata": {
  "kernelspec": {
   "display_name": "Python 3",
   "language": "python",
   "name": "python3"
  },
  "language_info": {
   "codemirror_mode": {
    "name": "ipython",
    "version": 3
   },
   "file_extension": ".py",
   "mimetype": "text/x-python",
   "name": "python",
   "nbconvert_exporter": "python",
   "pygments_lexer": "ipython3",
   "version": "3.7.3"
  }
 },
 "nbformat": 4,
 "nbformat_minor": 4
}
