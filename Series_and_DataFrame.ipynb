{
 "cells": [
  {
   "cell_type": "code",
   "execution_count": 1,
   "metadata": {},
   "outputs": [
    {
     "name": "stdout",
     "output_type": "stream",
     "text": [
      "0    홍길동\n",
      "1     25\n",
      "dtype: object <class 'pandas.core.series.Series'>\n"
     ]
    }
   ],
   "source": [
    "# Series -> 여러개의 단일 타입의 데이터\n",
    "# 1차원 데이터\n",
    "import pandas as pd\n",
    "s = pd.Series([\"홍길동\",25])\n",
    "print(s, type(s))"
   ]
  },
  {
   "cell_type": "code",
   "execution_count": 2,
   "metadata": {},
   "outputs": [
    {
     "name": "stdout",
     "output_type": "stream",
     "text": [
      "RangeIndex(start=0, stop=2, step=1)\n",
      "Name    홍길동\n",
      "age      25\n",
      "dtype: object\n",
      "name    홍길동\n",
      "age      25\n",
      "dtype: object\n"
     ]
    }
   ],
   "source": [
    "# 인덱스의 확인\n",
    "print(s.index)\n",
    "# 생성할 때 index를 임의로 부여할 수 있다.\n",
    "s2 = pd.Series([\"홍길동\", 25], index=[\"Name\",\"age\"])\n",
    "print(s2)\n",
    "\n",
    "# 이미 만들어진 시리즈의 인덱스를 추가 부여할 수 있다.\n",
    "s.index = [\"name\", \"age\"]\n",
    "print(s)"
   ]
  },
  {
   "cell_type": "code",
   "execution_count": 3,
   "metadata": {},
   "outputs": [
    {
     "name": "stdout",
     "output_type": "stream",
     "text": [
      "count      5.000000\n",
      "mean      82.000000\n",
      "std       13.509256\n",
      "min       65.000000\n",
      "25%       75.000000\n",
      "50%       80.000000\n",
      "75%       90.000000\n",
      "max      100.000000\n",
      "dtype: float64\n"
     ]
    }
   ],
   "source": [
    "kor = [80,90, 75, 100, 65] # 시리즈 데이터로 활용할 리스트\n",
    "kor_s = pd.Series(kor) # 시리즈 생성\n",
    "print(kor_s.describe()) # 기초 통계량 확인\n"
   ]
  },
  {
   "cell_type": "code",
   "execution_count": 4,
   "metadata": {},
   "outputs": [
    {
     "name": "stdout",
     "output_type": "stream",
     "text": [
      "65 100\n",
      "82.0 80.0\n",
      "13.509256086106296\n",
      "0    False\n",
      "1    False\n",
      "2    False\n",
      "3     True\n",
      "4    False\n",
      "dtype: bool\n"
     ]
    }
   ],
   "source": [
    "# 기초 통계함수\n",
    "print(kor_s.min(), kor_s.max()) # 최저, 최대 값\n",
    "print(kor_s.mean(), kor_s.median())\n",
    "print(kor_s.std())\n",
    "print(kor_s.isin([100]));"
   ]
  },
  {
   "cell_type": "code",
   "execution_count": 5,
   "metadata": {},
   "outputs": [
    {
     "name": "stdout",
     "output_type": "stream",
     "text": [
      "s3: 0     1\n",
      "1     5\n",
      "2     8\n",
      "3     4\n",
      "4     6\n",
      "5     1\n",
      "6    10\n",
      "dtype: int64\n",
      "0     2\n",
      "1    10\n",
      "2    16\n",
      "3     8\n",
      "4    12\n",
      "5     2\n",
      "6    20\n",
      "dtype: int64\n",
      "0     2\n",
      "1     7\n",
      "2    11\n",
      "3     8\n",
      "4    11\n",
      "5     7\n",
      "6    17\n",
      "dtype: int64\n",
      "0     3\n",
      "1    11\n",
      "2    17\n",
      "3     9\n",
      "4    13\n",
      "5     3\n",
      "6    21\n",
      "dtype: int64\n"
     ]
    }
   ],
   "source": [
    "# 시리즈 연산\n",
    "s3 = pd.Series([1, 5, 8, 4, 6, 1, 10])\n",
    "print(\"s3:\", s3)\n",
    "\n",
    "#series(1차원)와 Scalar 의 연산 -> Brocasting\n",
    "print(s3 *2)\n",
    "\n",
    "# series 와 series 의 연산 -> 동일 인덱스에 연산이 수행\n",
    "s4 = pd.Series([1,2,3,4,5,6,7])\n",
    "print(s3 + s4)\n",
    "\n",
    "# 사용자 정의 함수의 브로드 캐스팅\n",
    "s5 = s3.apply(lambda x : 2 * x + 1)\n",
    "print(s5)"
   ]
  },
  {
   "cell_type": "code",
   "execution_count": 6,
   "metadata": {},
   "outputs": [
    {
     "data": {
      "text/html": [
       "<div>\n",
       "<style scoped>\n",
       "    .dataframe tbody tr th:only-of-type {\n",
       "        vertical-align: middle;\n",
       "    }\n",
       "\n",
       "    .dataframe tbody tr th {\n",
       "        vertical-align: top;\n",
       "    }\n",
       "\n",
       "    .dataframe thead th {\n",
       "        text-align: right;\n",
       "    }\n",
       "</style>\n",
       "<table border=\"1\" class=\"dataframe\">\n",
       "  <thead>\n",
       "    <tr style=\"text-align: right;\">\n",
       "      <th></th>\n",
       "      <th>KOR</th>\n",
       "      <th>ENG</th>\n",
       "      <th>MATH</th>\n",
       "    </tr>\n",
       "  </thead>\n",
       "  <tbody>\n",
       "    <tr>\n",
       "      <th>홍길동</th>\n",
       "      <td>80</td>\n",
       "      <td>90</td>\n",
       "      <td>80</td>\n",
       "    </tr>\n",
       "    <tr>\n",
       "      <th>김철수</th>\n",
       "      <td>90</td>\n",
       "      <td>80</td>\n",
       "      <td>90</td>\n",
       "    </tr>\n",
       "    <tr>\n",
       "      <th>이영희</th>\n",
       "      <td>75</td>\n",
       "      <td>70</td>\n",
       "      <td>85</td>\n",
       "    </tr>\n",
       "  </tbody>\n",
       "</table>\n",
       "</div>"
      ],
      "text/plain": [
       "     KOR  ENG  MATH\n",
       "홍길동   80   90    80\n",
       "김철수   90   80    90\n",
       "이영희   75   70    85"
      ]
     },
     "metadata": {},
     "output_type": "display_data"
    }
   ],
   "source": [
    "# DataFrame : 행과 열(변수)로 이루어진 테이블 데이터\n",
    "score_df = pd.DataFrame({\n",
    "    \"KOR\":[80, 90, 75],\n",
    "    \"ENG\":[90, 80, 70],\n",
    "    \"MATH\":[80, 90, 85]    \n",
    "}, index=[\"홍길동\",\"김철수\",\"이영희\"])\n",
    "display(score_df)"
   ]
  },
  {
   "cell_type": "code",
   "execution_count": 7,
   "metadata": {},
   "outputs": [
    {
     "data": {
      "text/html": [
       "<div>\n",
       "<style scoped>\n",
       "    .dataframe tbody tr th:only-of-type {\n",
       "        vertical-align: middle;\n",
       "    }\n",
       "\n",
       "    .dataframe tbody tr th {\n",
       "        vertical-align: top;\n",
       "    }\n",
       "\n",
       "    .dataframe thead th {\n",
       "        text-align: right;\n",
       "    }\n",
       "</style>\n",
       "<table border=\"1\" class=\"dataframe\">\n",
       "  <thead>\n",
       "    <tr style=\"text-align: right;\">\n",
       "      <th></th>\n",
       "      <th>KOR</th>\n",
       "      <th>ENG</th>\n",
       "      <th>MATH</th>\n",
       "      <th>TOTAL</th>\n",
       "    </tr>\n",
       "  </thead>\n",
       "  <tbody>\n",
       "    <tr>\n",
       "      <th>홍길동</th>\n",
       "      <td>80</td>\n",
       "      <td>90</td>\n",
       "      <td>80</td>\n",
       "      <td>250</td>\n",
       "    </tr>\n",
       "    <tr>\n",
       "      <th>김철수</th>\n",
       "      <td>90</td>\n",
       "      <td>80</td>\n",
       "      <td>90</td>\n",
       "      <td>260</td>\n",
       "    </tr>\n",
       "    <tr>\n",
       "      <th>이영희</th>\n",
       "      <td>75</td>\n",
       "      <td>70</td>\n",
       "      <td>85</td>\n",
       "      <td>230</td>\n",
       "    </tr>\n",
       "  </tbody>\n",
       "</table>\n",
       "</div>"
      ],
      "text/plain": [
       "     KOR  ENG  MATH  TOTAL\n",
       "홍길동   80   90    80    250\n",
       "김철수   90   80    90    260\n",
       "이영희   75   70    85    230"
      ]
     },
     "metadata": {},
     "output_type": "display_data"
    },
    {
     "data": {
      "text/html": [
       "<div>\n",
       "<style scoped>\n",
       "    .dataframe tbody tr th:only-of-type {\n",
       "        vertical-align: middle;\n",
       "    }\n",
       "\n",
       "    .dataframe tbody tr th {\n",
       "        vertical-align: top;\n",
       "    }\n",
       "\n",
       "    .dataframe thead th {\n",
       "        text-align: right;\n",
       "    }\n",
       "</style>\n",
       "<table border=\"1\" class=\"dataframe\">\n",
       "  <thead>\n",
       "    <tr style=\"text-align: right;\">\n",
       "      <th></th>\n",
       "      <th>KOR</th>\n",
       "      <th>ENG</th>\n",
       "      <th>MATH</th>\n",
       "      <th>TOTAL</th>\n",
       "      <th>AVERAGE</th>\n",
       "    </tr>\n",
       "  </thead>\n",
       "  <tbody>\n",
       "    <tr>\n",
       "      <th>홍길동</th>\n",
       "      <td>80</td>\n",
       "      <td>90</td>\n",
       "      <td>80</td>\n",
       "      <td>250</td>\n",
       "      <td>83.333333</td>\n",
       "    </tr>\n",
       "    <tr>\n",
       "      <th>김철수</th>\n",
       "      <td>90</td>\n",
       "      <td>80</td>\n",
       "      <td>90</td>\n",
       "      <td>260</td>\n",
       "      <td>86.666667</td>\n",
       "    </tr>\n",
       "    <tr>\n",
       "      <th>이영희</th>\n",
       "      <td>75</td>\n",
       "      <td>70</td>\n",
       "      <td>85</td>\n",
       "      <td>230</td>\n",
       "      <td>76.666667</td>\n",
       "    </tr>\n",
       "  </tbody>\n",
       "</table>\n",
       "</div>"
      ],
      "text/plain": [
       "     KOR  ENG  MATH  TOTAL    AVERAGE\n",
       "홍길동   80   90    80    250  83.333333\n",
       "김철수   90   80    90    260  86.666667\n",
       "이영희   75   70    85    230  76.666667"
      ]
     },
     "metadata": {},
     "output_type": "display_data"
    }
   ],
   "source": [
    "# 변수의 파생 : 기존 변수를 기반으로 새로운 변수 생성\n",
    "score_df[\"TOTAL\"] = score_df[\"KOR\"] + score_df[\"ENG\"] + score_df[\"MATH\"]\n",
    "# TOTAL 변수를 기반으로 2차 파생\n",
    "display(score_df)\n",
    "score_df[\"AVERAGE\"] = score_df[\"TOTAL\"] /3\n",
    "display(score_df)"
   ]
  },
  {
   "cell_type": "code",
   "execution_count": 8,
   "metadata": {},
   "outputs": [
    {
     "data": {
      "text/html": [
       "<div>\n",
       "<style scoped>\n",
       "    .dataframe tbody tr th:only-of-type {\n",
       "        vertical-align: middle;\n",
       "    }\n",
       "\n",
       "    .dataframe tbody tr th {\n",
       "        vertical-align: top;\n",
       "    }\n",
       "\n",
       "    .dataframe thead th {\n",
       "        text-align: right;\n",
       "    }\n",
       "</style>\n",
       "<table border=\"1\" class=\"dataframe\">\n",
       "  <thead>\n",
       "    <tr style=\"text-align: right;\">\n",
       "      <th></th>\n",
       "      <th>KOR</th>\n",
       "      <th>ENG</th>\n",
       "      <th>MATH</th>\n",
       "      <th>TOTAL</th>\n",
       "      <th>AVERAGE</th>\n",
       "    </tr>\n",
       "  </thead>\n",
       "  <tbody>\n",
       "    <tr>\n",
       "      <th>홍길동</th>\n",
       "      <td>80</td>\n",
       "      <td>90</td>\n",
       "      <td>80</td>\n",
       "      <td>250</td>\n",
       "      <td>83.333333</td>\n",
       "    </tr>\n",
       "    <tr>\n",
       "      <th>이영희</th>\n",
       "      <td>75</td>\n",
       "      <td>70</td>\n",
       "      <td>85</td>\n",
       "      <td>230</td>\n",
       "      <td>76.666667</td>\n",
       "    </tr>\n",
       "  </tbody>\n",
       "</table>\n",
       "</div>"
      ],
      "text/plain": [
       "     KOR  ENG  MATH  TOTAL    AVERAGE\n",
       "홍길동   80   90    80    250  83.333333\n",
       "이영희   75   70    85    230  76.666667"
      ]
     },
     "execution_count": 8,
     "metadata": {},
     "output_type": "execute_result"
    }
   ],
   "source": [
    "# index에 boolean 값을 전달하면 True인 행만 필터링 할 수 있다.\n",
    "# boolean 연산\n",
    "score_df[[True, False, True]]"
   ]
  },
  {
   "cell_type": "code",
   "execution_count": 9,
   "metadata": {},
   "outputs": [
    {
     "name": "stdout",
     "output_type": "stream",
     "text": [
      "홍길동     True\n",
      "김철수     True\n",
      "이영희    False\n",
      "Name: AVERAGE, dtype: bool\n"
     ]
    }
   ],
   "source": [
    "print(score_df[\"AVERAGE\"] >= 80) # >= 80 -> 연산이 broadcasting -> 논리 추출"
   ]
  },
  {
   "cell_type": "code",
   "execution_count": 10,
   "metadata": {},
   "outputs": [
    {
     "name": "stdout",
     "output_type": "stream",
     "text": [
      "     KOR  ENG  MATH  TOTAL    AVERAGE\n",
      "홍길동   80   90    80    250  83.333333\n",
      "김철수   90   80    90    260  86.666667\n"
     ]
    }
   ],
   "source": [
    "# 데이터 프레임에서 평균이 80 점 이상인 학생만 추출\n",
    "fieltered_df = score_df[score_df[\"AVERAGE\"] >= 80]\n",
    "print(fieltered_df)"
   ]
  },
  {
   "cell_type": "code",
   "execution_count": 11,
   "metadata": {},
   "outputs": [
    {
     "data": {
      "text/html": [
       "<div>\n",
       "<style scoped>\n",
       "    .dataframe tbody tr th:only-of-type {\n",
       "        vertical-align: middle;\n",
       "    }\n",
       "\n",
       "    .dataframe tbody tr th {\n",
       "        vertical-align: top;\n",
       "    }\n",
       "\n",
       "    .dataframe thead th {\n",
       "        text-align: right;\n",
       "    }\n",
       "</style>\n",
       "<table border=\"1\" class=\"dataframe\">\n",
       "  <thead>\n",
       "    <tr style=\"text-align: right;\">\n",
       "      <th></th>\n",
       "      <th>홍길동</th>\n",
       "      <th>175.8</th>\n",
       "      <th>73.2</th>\n",
       "    </tr>\n",
       "  </thead>\n",
       "  <tbody>\n",
       "    <tr>\n",
       "      <th>0</th>\n",
       "      <td>전우치</td>\n",
       "      <td>170.2</td>\n",
       "      <td>66.3</td>\n",
       "    </tr>\n",
       "    <tr>\n",
       "      <th>1</th>\n",
       "      <td>임꺽정</td>\n",
       "      <td>186.7</td>\n",
       "      <td>88.2</td>\n",
       "    </tr>\n",
       "    <tr>\n",
       "      <th>2</th>\n",
       "      <td>장길산</td>\n",
       "      <td>188.3</td>\n",
       "      <td>90.0</td>\n",
       "    </tr>\n",
       "  </tbody>\n",
       "</table>\n",
       "</div>"
      ],
      "text/plain": [
       "   홍길동  175.8  73.2\n",
       "0  전우치  170.2  66.3\n",
       "1  임꺽정  186.7  88.2\n",
       "2  장길산  188.3  90.0"
      ]
     },
     "metadata": {},
     "output_type": "display_data"
    }
   ],
   "source": [
    "# read_ 계열의 method : 다양한 데이터를 입력\n",
    "thieves_df = pd.read_csv(\"./data/thieves.txt\", sep='\\t') # 탭으로 구분된 csv\n",
    "display(thieves_df)"
   ]
  },
  {
   "cell_type": "code",
   "execution_count": 12,
   "metadata": {},
   "outputs": [
    {
     "data": {
      "text/html": [
       "<div>\n",
       "<style scoped>\n",
       "    .dataframe tbody tr th:only-of-type {\n",
       "        vertical-align: middle;\n",
       "    }\n",
       "\n",
       "    .dataframe tbody tr th {\n",
       "        vertical-align: top;\n",
       "    }\n",
       "\n",
       "    .dataframe thead th {\n",
       "        text-align: right;\n",
       "    }\n",
       "</style>\n",
       "<table border=\"1\" class=\"dataframe\">\n",
       "  <thead>\n",
       "    <tr style=\"text-align: right;\">\n",
       "      <th></th>\n",
       "      <th>0</th>\n",
       "      <th>1</th>\n",
       "      <th>2</th>\n",
       "    </tr>\n",
       "  </thead>\n",
       "  <tbody>\n",
       "    <tr>\n",
       "      <th>0</th>\n",
       "      <td>홍길동</td>\n",
       "      <td>175.8</td>\n",
       "      <td>73.2</td>\n",
       "    </tr>\n",
       "    <tr>\n",
       "      <th>1</th>\n",
       "      <td>전우치</td>\n",
       "      <td>170.2</td>\n",
       "      <td>66.3</td>\n",
       "    </tr>\n",
       "    <tr>\n",
       "      <th>2</th>\n",
       "      <td>임꺽정</td>\n",
       "      <td>186.7</td>\n",
       "      <td>88.2</td>\n",
       "    </tr>\n",
       "    <tr>\n",
       "      <th>3</th>\n",
       "      <td>장길산</td>\n",
       "      <td>188.3</td>\n",
       "      <td>90.0</td>\n",
       "    </tr>\n",
       "  </tbody>\n",
       "</table>\n",
       "</div>"
      ],
      "text/plain": [
       "     0      1     2\n",
       "0  홍길동  175.8  73.2\n",
       "1  전우치  170.2  66.3\n",
       "2  임꺽정  186.7  88.2\n",
       "3  장길산  188.3  90.0"
      ]
     },
     "metadata": {},
     "output_type": "display_data"
    }
   ],
   "source": [
    "# read_csv 메서드는 첫 번째 행을 컬럼명으로 활용.\n",
    "# 첫 번째 행이 컬럼 명이 아닐 경우, 컬럼명에서 배재해 줘야 한다.\n",
    "thieves_df2 = pd.read_csv(\"./data/thieves.txt\", sep=\"\\t\", header=None)\n",
    "display(thieves_df2)"
   ]
  },
  {
   "cell_type": "code",
   "execution_count": 13,
   "metadata": {},
   "outputs": [
    {
     "data": {
      "text/html": [
       "<div>\n",
       "<style scoped>\n",
       "    .dataframe tbody tr th:only-of-type {\n",
       "        vertical-align: middle;\n",
       "    }\n",
       "\n",
       "    .dataframe tbody tr th {\n",
       "        vertical-align: top;\n",
       "    }\n",
       "\n",
       "    .dataframe thead th {\n",
       "        text-align: right;\n",
       "    }\n",
       "</style>\n",
       "<table border=\"1\" class=\"dataframe\">\n",
       "  <thead>\n",
       "    <tr style=\"text-align: right;\">\n",
       "      <th></th>\n",
       "      <th>1</th>\n",
       "      <th>2</th>\n",
       "    </tr>\n",
       "    <tr>\n",
       "      <th>0</th>\n",
       "      <th></th>\n",
       "      <th></th>\n",
       "    </tr>\n",
       "  </thead>\n",
       "  <tbody>\n",
       "    <tr>\n",
       "      <th>홍길동</th>\n",
       "      <td>175.8</td>\n",
       "      <td>73.2</td>\n",
       "    </tr>\n",
       "    <tr>\n",
       "      <th>전우치</th>\n",
       "      <td>170.2</td>\n",
       "      <td>66.3</td>\n",
       "    </tr>\n",
       "    <tr>\n",
       "      <th>임꺽정</th>\n",
       "      <td>186.7</td>\n",
       "      <td>88.2</td>\n",
       "    </tr>\n",
       "    <tr>\n",
       "      <th>장길산</th>\n",
       "      <td>188.3</td>\n",
       "      <td>90.0</td>\n",
       "    </tr>\n",
       "  </tbody>\n",
       "</table>\n",
       "</div>"
      ],
      "text/plain": [
       "         1     2\n",
       "0               \n",
       "홍길동  175.8  73.2\n",
       "전우치  170.2  66.3\n",
       "임꺽정  186.7  88.2\n",
       "장길산  188.3  90.0"
      ]
     },
     "metadata": {},
     "output_type": "display_data"
    }
   ],
   "source": [
    "# 특정 컬럼을 인덱스로 활용하려는 경우\n",
    "thieves_df3 = pd.read_csv(\"./data/thieves.txt\", sep='\\t', header=None, index_col=0)\n",
    "display(thieves_df3)"
   ]
  },
  {
   "cell_type": "code",
   "execution_count": 14,
   "metadata": {},
   "outputs": [
    {
     "name": "stdout",
     "output_type": "stream",
     "text": [
      "Int64Index([1, 2], dtype='int64')\n"
     ]
    },
    {
     "data": {
      "text/html": [
       "<div>\n",
       "<style scoped>\n",
       "    .dataframe tbody tr th:only-of-type {\n",
       "        vertical-align: middle;\n",
       "    }\n",
       "\n",
       "    .dataframe tbody tr th {\n",
       "        vertical-align: top;\n",
       "    }\n",
       "\n",
       "    .dataframe thead th {\n",
       "        text-align: right;\n",
       "    }\n",
       "</style>\n",
       "<table border=\"1\" class=\"dataframe\">\n",
       "  <thead>\n",
       "    <tr style=\"text-align: right;\">\n",
       "      <th></th>\n",
       "      <th>Height</th>\n",
       "      <th>Weight</th>\n",
       "    </tr>\n",
       "    <tr>\n",
       "      <th>Name</th>\n",
       "      <th></th>\n",
       "      <th></th>\n",
       "    </tr>\n",
       "  </thead>\n",
       "  <tbody>\n",
       "    <tr>\n",
       "      <th>홍길동</th>\n",
       "      <td>175.8</td>\n",
       "      <td>73.2</td>\n",
       "    </tr>\n",
       "    <tr>\n",
       "      <th>전우치</th>\n",
       "      <td>170.2</td>\n",
       "      <td>66.3</td>\n",
       "    </tr>\n",
       "    <tr>\n",
       "      <th>임꺽정</th>\n",
       "      <td>186.7</td>\n",
       "      <td>88.2</td>\n",
       "    </tr>\n",
       "    <tr>\n",
       "      <th>장길산</th>\n",
       "      <td>188.3</td>\n",
       "      <td>90.0</td>\n",
       "    </tr>\n",
       "  </tbody>\n",
       "</table>\n",
       "</div>"
      ],
      "text/plain": [
       "      Height  Weight\n",
       "Name                \n",
       "홍길동    175.8    73.2\n",
       "전우치    170.2    66.3\n",
       "임꺽정    186.7    88.2\n",
       "장길산    188.3    90.0"
      ]
     },
     "metadata": {},
     "output_type": "display_data"
    }
   ],
   "source": [
    "# 컬럼 명의 확인\n",
    "print(thieves_df3.columns)\n",
    "thieves_df3.columns = [\"Height\", \"Weight\"]\n",
    "\n",
    "# 인덱스의 이름도 바꿔 봅시다.\n",
    "thieves_df3.index.name = \"Name\"\n",
    "\n",
    "display(thieves_df3)"
   ]
  },
  {
   "cell_type": "code",
   "execution_count": 15,
   "metadata": {},
   "outputs": [],
   "source": [
    "# 정제된 데이터의 저장\n",
    "thieves_df3.to_csv(\"./data/thieves.csv\")\n",
    "# 인코딩 문제가 있으면\n",
    "thieves_df3.to_csv(\"./data/thieves.csv\", encoding=\"utf-8\")"
   ]
  },
  {
   "cell_type": "code",
   "execution_count": 16,
   "metadata": {},
   "outputs": [
    {
     "name": "stdout",
     "output_type": "stream",
     "text": [
      "0     90.0\n",
      "1     80.0\n",
      "2    120.0\n",
      "3      NaN\n",
      "4     95.0\n",
      "5     80.0\n",
      "6    -10.0\n",
      "dtype: float64\n"
     ]
    }
   ],
   "source": [
    "# 결측치 : 측정되지 않았거나 데이터 정제 과정에서 비어버린 값\n",
    "# 결측치 포함된 데이터셋의 통계 함수 결과 또한 결측치\n",
    "from numpy import nan, NAN, NaN\n",
    "import numpy as np\n",
    "exam_scores = pd.Series([90, 80, 120, nan, 95, 80, -10])\n",
    "print(exam_scores)\n",
    "\n",
    "\n"
   ]
  },
  {
   "cell_type": "code",
   "execution_count": 17,
   "metadata": {},
   "outputs": [
    {
     "name": "stdout",
     "output_type": "stream",
     "text": [
      "0    False\n",
      "1    False\n",
      "2    False\n",
      "3     True\n",
      "4    False\n",
      "5    False\n",
      "6    False\n",
      "dtype: bool\n",
      "결측치의 갯수 1\n"
     ]
    }
   ],
   "source": [
    "# 결측치의 확인\n",
    "print(pd.isnull(exam_scores))\n",
    "# 결측 빈도의 확인\n",
    "print(\"결측치의 갯수\", np.count_nonzero(exam_scores.isnull()))\n"
   ]
  },
  {
   "cell_type": "code",
   "execution_count": 18,
   "metadata": {},
   "outputs": [
    {
     "name": "stdout",
     "output_type": "stream",
     "text": [
      "0    False\n",
      "1    False\n",
      "2     True\n",
      "3     True\n",
      "4    False\n",
      "5    False\n",
      "6     True\n",
      "dtype: bool\n",
      "0    90.0\n",
      "1    80.0\n",
      "2     NaN\n",
      "3     NaN\n",
      "4    95.0\n",
      "5    80.0\n",
      "6     NaN\n",
      "dtype: float64\n",
      "평균: 86.25\n",
      "통계량: count     4.00\n",
      "mean     86.25\n",
      "std       7.50\n",
      "min      80.00\n",
      "25%      80.00\n",
      "50%      85.00\n",
      "75%      91.25\n",
      "max      95.00\n",
      "dtype: float64\n"
     ]
    }
   ],
   "source": [
    "# 이상치의 확인\n",
    "print(~exam_scores.isin(range(0, 101))) # not in range(0, 101)\n",
    "# 이상치 결측치로 대체\n",
    "exam_scores[~exam_scores.isin(range(0, 101))] = nan\n",
    "print(exam_scores)\n",
    "# 이상치를 결측치로 대체한 데이터셋의 통계\n",
    "print(\"평균:\", exam_scores.mean())\n",
    "print(\"통계량:\",exam_scores.describe())"
   ]
  },
  {
   "cell_type": "code",
   "execution_count": 19,
   "metadata": {
    "scrolled": true
   },
   "outputs": [
    {
     "name": "stdout",
     "output_type": "stream",
     "text": [
      "결측치 제외 중앙값: 86.25\n",
      "0    90.00\n",
      "1    80.00\n",
      "2    86.25\n",
      "3    86.25\n",
      "4    95.00\n",
      "5    80.00\n",
      "6    86.25\n",
      "dtype: float64\n",
      "정제된 데이터의 최종 평균: 86.25\n"
     ]
    }
   ],
   "source": [
    "# 결측치가 많으면 통계 결과에 왜곡\n",
    "# 결측치를 대푯값으로 대체 ( 결측치를 제외한 대푯값)\n",
    "med_score = exam_scores[exam_scores.notnull()].mean()\n",
    "print(\"결측치 제외 중앙값:\", med_score)\n",
    "exam_scores_backup = [90, 80, nan, nan, 95, 80, nan]\n",
    "exam_scores[exam_scores.isnull()] = med_score\n",
    "print(exam_scores)\n",
    "\n",
    "print(\"정제된 데이터의 최종 평균:\", exam_scores.mean())"
   ]
  },
  {
   "cell_type": "code",
   "execution_count": null,
   "metadata": {},
   "outputs": [],
   "source": []
  }
 ],
 "metadata": {
  "kernelspec": {
   "display_name": "Python 3",
   "language": "python",
   "name": "python3"
  },
  "language_info": {
   "codemirror_mode": {
    "name": "ipython",
    "version": 3
   },
   "file_extension": ".py",
   "mimetype": "text/x-python",
   "name": "python",
   "nbconvert_exporter": "python",
   "pygments_lexer": "ipython3",
   "version": "3.7.3"
  }
 },
 "nbformat": 4,
 "nbformat_minor": 4
}
