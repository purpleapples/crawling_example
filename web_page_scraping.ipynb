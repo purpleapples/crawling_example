{
 "cells": [
  {
   "cell_type": "code",
   "execution_count": 1,
   "metadata": {
    "scrolled": true
   },
   "outputs": [
    {
     "name": "stdout",
     "output_type": "stream",
     "text": [
      "SUCCESS\n"
     ]
    }
   ],
   "source": [
    "# urllib 임포트 \n",
    "from urllib.request import urlopen \n",
    "from bs4 import BeautifulSoup as BeautifulSoup\n",
    "\n",
    "req = urlopen(\"http://news.daum.net/\")\n",
    "#print(\"응답코드 :\", req.getcode())\n",
    "\n",
    "if req.getcode() == 200:\n",
    "    # html 받아오기\n",
    "    html = req.read()\n",
    "    html = html.decode(\"utf-8\")\n",
    "    print(\"SUCCESS\")\n",
    "else:\n",
    "    print(\"HTTP-ERROR\")    "
   ]
  },
  {
   "cell_type": "code",
   "execution_count": 2,
   "metadata": {},
   "outputs": [
    {
     "name": "stdout",
     "output_type": "stream",
     "text": [
      "문서 제목: 홈 | 다음뉴스\n"
     ]
    }
   ],
   "source": [
    "# text -> html dom으로 변경\n",
    "soup = BeautifulSoup(html, \"html.parser\")\n",
    "#print(soup.prettify())\n",
    "# 문서 정보의 확인\n",
    "print(\"문서 제목:\", soup.title.text)\n"
   ]
  },
  {
   "cell_type": "code",
   "execution_count": 3,
   "metadata": {
    "collapsed": true
   },
   "outputs": [
    {
     "name": "stdout",
     "output_type": "stream",
     "text": [
      "\"대기업 가습기 '살균필터', 지금도 무허가로 버젓이 판매\" - https://news.v.daum.net/v/20201006133304570\n",
      "스타벅스 서초교대점서 코로나 확진..3명 감염 - https://news.v.daum.net/v/20201006132011187\n",
      "집 안에서 현금다발 '와르르'..호화 생활 즐긴 체납자 - https://news.v.daum.net/v/20201006131910161\n",
      "37명 확진 軍 최다 집단감염 포천 부대 '감염경로 사흘째 오리무중' - https://news.v.daum.net/v/20201006131652092\n",
      "'피격 사망' 공무원 수색 장기화..소청도 주변 표류 가능성 - https://news.v.daum.net/v/20201006131623074\n",
      "코로나19 여파로 전기료, 수도료, 월세 못내는 위기가구 늘어 - https://news.v.daum.net/v/20201006132506320\n",
      "선관위, '불법 햄버거' 논란 홍문표 아닌 김헌수에 '경고' - https://news.v.daum.net/v/20201006131501016\n",
      "야, 경제3법·노동법 '1+1 개정' 압박하자..여 \"실체도 없는 것\" 일축 - https://news.v.daum.net/v/20201006130624750\n",
      "\"돌고래 폐사시킨 동물학대 시설들 검찰 고발\" - https://news.v.daum.net/v/20201006130602726\n",
      "중개사법 개정 후폭풍.. 알짜 빌딩 매물이 숨는다 - https://news.v.daum.net/v/20201006130052619\n",
      "경찰 참고인 여비 5500만원만 줬다, 최소액 2억원↑인데 - https://news.v.daum.net/v/20201006132217250\n",
      "민주노총, 김종인 노동법 개정 발언에 \"공개토론 응할 자신 없다면 입 다물라\" - https://news.v.daum.net/v/20201006130051618\n",
      "키르기스스탄서도 부정선거 의심 정황.. 反정부 시위 확산 - https://news.v.daum.net/v/20201006130026604\n",
      "스가 \"학문 자유 침해와 무관\" 주장에도 항의 성명 잇따라 - https://news.v.daum.net/v/20201006130024603\n",
      "네이버, 공정위 제재 불복..\"악의적 지적·사업활동 침해 유감\" - https://news.v.daum.net/v/20201006125756548\n"
     ]
    }
   ],
   "source": [
    "article_list = soup.body.select(\"div.box_headline ul.list_headline a\")\n",
    "\n",
    "# 기사 목록을  json list로 변형\n",
    "news_list = []\n",
    "for li in article_list:\n",
    "    news = {\n",
    "        \"href\" : li['href'],\n",
    "        \"title\" : li.text.strip()\n",
    "    }\n",
    "    news_list.append(news)    \n",
    "\n",
    "for news in news_list:\n",
    "    print(\"{title} - {href}\".format_map(news))"
   ]
  },
  {
   "cell_type": "code",
   "execution_count": 4,
   "metadata": {
    "collapsed": true
   },
   "outputs": [
    {
     "name": "stdout",
     "output_type": "stream",
     "text": [
      "코로나 쇼크에.. 美 경제, 부익부 빈익빈의 'K자형 회복' - https://news.v.daum.net/v/20201006130030610\n",
      "'가진자 vs 못 가진자' 더 벌린 코로나 - https://news.v.daum.net/v/20201006114752753\n",
      "'가진자'와 '못가진자'를 더 벌려놓은 코로나19 - https://news.v.daum.net/v/20201006104500303\n",
      "文대통령 \"중소·벤처기업 코로나시대 극복 경제반등 중심으로\" - https://news.v.daum.net/v/20201006130012595\n",
      "문대통령 \"중기·벤처를 코로나 이후 디지털경제 주역으로\" - https://news.v.daum.net/v/20201006112126346\n",
      "文대통령 \"공공조달에서 中企 우대받는 생태계 조성한다\" - https://news.v.daum.net/v/20201006110802587\n",
      "\"국민참여재판, 일반재판보다 항소율 높아..악용 우려\" - https://news.v.daum.net/v/20201006123015991\n",
      "소병철 \"국민참여재판 항소율 일반 재판보다 높아..개선 필요\" - https://news.v.daum.net/v/20201006114526638\n",
      "국민참여재판 10건 중 8건은 항소..\"무죄율 높아 성범죄 사건서 악용\" - https://news.v.daum.net/v/20201006114422570\n",
      "중소기업 70% \"해외출장 후 2주 격리 힘들다\" - https://news.v.daum.net/v/20201006120045199\n",
      "중소기업계 \"해외출장 후 2주 격리로 어려워..완화 필요\" - https://news.v.daum.net/v/20201006120043196\n",
      "수출 中企 10곳 중 7곳 \"해외출장 뒤 2주 격리, 가장 부담된다\" - https://news.v.daum.net/v/20201006120019155\n"
     ]
    }
   ],
   "source": [
    "# 연습\n",
    "# 다음 뉴스 상단 div#cSub 인 뉴스 수집\n",
    "upper_article_list = soup.body.select(\"div#cSub a.link_txt\")\n",
    "upper_news_list = []\n",
    "for a in upper_article_list:\n",
    "    news = {\n",
    "        \"href\" : a['href'],\n",
    "        \"title\" : a.text.strip()\n",
    "    }\n",
    "    upper_news_list.append(news)   \n",
    "    \n",
    "for news in upper_news_list:\n",
    "    print(\"{title} - {href}\".format_map(news))"
   ]
  },
  {
   "cell_type": "code",
   "execution_count": 5,
   "metadata": {},
   "outputs": [],
   "source": [
    "# https://movie.naver.com/movie/running/current.nhn\n",
    "# 영화 순위를 수집\n",
    "req = urlopen(\"https://movie.naver.com/movie/running/current.nhn\")\n",
    "html_str = req.read().decode('utf-8')\n"
   ]
  },
  {
   "cell_type": "code",
   "execution_count": 8,
   "metadata": {
    "collapsed": true
   },
   "outputs": [
    {
     "name": "stdout",
     "output_type": "stream",
     "text": [
      "담보-https://movie.naver.com//movie/bi/mi/basic.nhn?code=183866\n",
      "국제수사-https://movie.naver.com//movie/bi/mi/basic.nhn?code=175393\n",
      "그린랜드-https://movie.naver.com//movie/bi/mi/basic.nhn?code=195983\n",
      "테넷-https://movie.naver.com//movie/bi/mi/basic.nhn?code=190010\n",
      "극장판 포켓몬스터 뮤츠의 역습 EVOLUTION-https://movie.naver.com//movie/bi/mi/basic.nhn?code=187305\n",
      "극장판 미니특공대: 햄버거괴물의 습격-https://movie.naver.com//movie/bi/mi/basic.nhn?code=196839\n",
      "죽지않는 인간들의 밤-https://movie.naver.com//movie/bi/mi/basic.nhn?code=183854\n",
      "검객-https://movie.naver.com//movie/bi/mi/basic.nhn?code=165287\n",
      "브레이크 더 사일런스: 더 무비-https://movie.naver.com//movie/bi/mi/basic.nhn?code=195975\n",
      "극장판 엉덩이 탐정: 텐텐마을의 수수께끼-https://movie.naver.com//movie/bi/mi/basic.nhn?code=196859\n",
      "뮬란-https://movie.naver.com//movie/bi/mi/basic.nhn?code=167491\n",
      "해수의 아이-https://movie.naver.com//movie/bi/mi/basic.nhn?code=186110\n",
      "아웃포스트-https://movie.naver.com//movie/bi/mi/basic.nhn?code=195450\n",
      "디바-https://movie.naver.com//movie/bi/mi/basic.nhn?code=177039\n",
      "마르지엘라-https://movie.naver.com//movie/bi/mi/basic.nhn?code=192883\n",
      "기기괴괴 성형수-https://movie.naver.com//movie/bi/mi/basic.nhn?code=194644\n",
      "강철비2: 정상회담-https://movie.naver.com//movie/bi/mi/basic.nhn?code=188909\n",
      "남매의 여름밤-https://movie.naver.com//movie/bi/mi/basic.nhn?code=189623\n",
      "오! 문희-https://movie.naver.com//movie/bi/mi/basic.nhn?code=179859\n",
      "프란시스 하-https://movie.naver.com//movie/bi/mi/basic.nhn?code=98738\n",
      "교실 안의 야크-https://movie.naver.com//movie/bi/mi/basic.nhn?code=189393\n",
      "도망친 여자-https://movie.naver.com//movie/bi/mi/basic.nhn?code=192191\n",
      "우리가 이별 뒤에 알게 되는 것들-https://movie.naver.com//movie/bi/mi/basic.nhn?code=188465\n",
      "카일라스 가는 길-https://movie.naver.com//movie/bi/mi/basic.nhn?code=178687\n",
      "보테로-https://movie.naver.com//movie/bi/mi/basic.nhn?code=180264\n",
      "다시 만난 날들-https://movie.naver.com//movie/bi/mi/basic.nhn?code=195690\n",
      "테스와 보낸 여름-https://movie.naver.com//movie/bi/mi/basic.nhn?code=183278\n",
      "공포분자-https://movie.naver.com//movie/bi/mi/basic.nhn?code=31130\n",
      "소년시절의 너-https://movie.naver.com//movie/bi/mi/basic.nhn?code=192066\n",
      "다만 악에서 구하소서-https://movie.naver.com//movie/bi/mi/basic.nhn?code=189069\n",
      "드라이브-https://movie.naver.com//movie/bi/mi/basic.nhn?code=80466\n",
      "극장판 짱구는 못말려: 신혼여행 허리케인~ 사라진 아빠!-https://movie.naver.com//movie/bi/mi/basic.nhn?code=183772\n",
      "후쿠오카-https://movie.naver.com//movie/bi/mi/basic.nhn?code=182353\n",
      "69세-https://movie.naver.com//movie/bi/mi/basic.nhn?code=189373\n",
      "나를 구하지 마세요-https://movie.naver.com//movie/bi/mi/basic.nhn?code=193330\n",
      "마티아스와 막심-https://movie.naver.com//movie/bi/mi/basic.nhn?code=185273\n",
      "낙엽귀근-https://movie.naver.com//movie/bi/mi/basic.nhn?code=66320\n",
      "워터 릴리스-https://movie.naver.com//movie/bi/mi/basic.nhn?code=67457\n",
      "극장판 시로바코-https://movie.naver.com//movie/bi/mi/basic.nhn?code=192612\n",
      "동아시아반일무장전선-https://movie.naver.com//movie/bi/mi/basic.nhn?code=185139\n",
      "하워즈 엔드-https://movie.naver.com//movie/bi/mi/basic.nhn?code=13636\n",
      "보리밭을 흔드는 바람-https://movie.naver.com//movie/bi/mi/basic.nhn?code=49380\n",
      "타샤 튜더-https://movie.naver.com//movie/bi/mi/basic.nhn?code=177335\n",
      "너의 이름은.-https://movie.naver.com//movie/bi/mi/basic.nhn?code=150198\n",
      "마음 울적한 날엔-https://movie.naver.com//movie/bi/mi/basic.nhn?code=195652\n",
      "천국보다 낯선-https://movie.naver.com//movie/bi/mi/basic.nhn?code=10624\n",
      "고령가 소년 살인사건-https://movie.naver.com//movie/bi/mi/basic.nhn?code=10922\n",
      "타오르는 여인의 초상-https://movie.naver.com//movie/bi/mi/basic.nhn?code=185282\n",
      "타이페이 스토리-https://movie.naver.com//movie/bi/mi/basic.nhn?code=10676\n",
      "비독: 파리의 황제-https://movie.naver.com//movie/bi/mi/basic.nhn?code=182793\n",
      "루스 베이더 긴즈버그 : 나는 반대한다-https://movie.naver.com//movie/bi/mi/basic.nhn?code=172605\n",
      "날씨의 아이-https://movie.naver.com//movie/bi/mi/basic.nhn?code=181114\n",
      "반교: 디텐션-https://movie.naver.com//movie/bi/mi/basic.nhn?code=189618\n",
      "이십일세기 소녀-https://movie.naver.com//movie/bi/mi/basic.nhn?code=186487\n",
      "블레이드 러너 2049-https://movie.naver.com//movie/bi/mi/basic.nhn?code=88227\n",
      "하얀 리본-https://movie.naver.com//movie/bi/mi/basic.nhn?code=52983\n",
      "경계선-https://movie.naver.com//movie/bi/mi/basic.nhn?code=175045\n",
      "스파이더맨: 뉴 유니버스-https://movie.naver.com//movie/bi/mi/basic.nhn?code=171725\n",
      "구르는 수레바퀴-https://movie.naver.com//movie/bi/mi/basic.nhn?code=189440\n",
      "소년 아메드-https://movie.naver.com//movie/bi/mi/basic.nhn?code=185269\n",
      "백년의 기억-https://movie.naver.com//movie/bi/mi/basic.nhn?code=188162\n",
      "에이바-https://movie.naver.com//movie/bi/mi/basic.nhn?code=195377\n",
      "치어리딩 클럽-https://movie.naver.com//movie/bi/mi/basic.nhn?code=183116\n",
      "퍼스널 쇼퍼-https://movie.naver.com//movie/bi/mi/basic.nhn?code=144221\n",
      "500일의 썸머-https://movie.naver.com//movie/bi/mi/basic.nhn?code=53152\n",
      "걸작-https://movie.naver.com//movie/bi/mi/basic.nhn?code=182642\n",
      "디트로이트-https://movie.naver.com//movie/bi/mi/basic.nhn?code=152689\n",
      "라붐-https://movie.naver.com//movie/bi/mi/basic.nhn?code=10117\n",
      "레이디 버드-https://movie.naver.com//movie/bi/mi/basic.nhn?code=158611\n",
      "브리짓 존스의 일기-https://movie.naver.com//movie/bi/mi/basic.nhn?code=31565\n",
      "사랑과 영혼-https://movie.naver.com//movie/bi/mi/basic.nhn?code=10173\n",
      "사랑하는 시바여 돌아오라-https://movie.naver.com//movie/bi/mi/basic.nhn?code=30335\n",
      "샤인-https://movie.naver.com//movie/bi/mi/basic.nhn?code=17970\n",
      "셰이프 오브 뮤직: 알렉상드르 데스플라-https://movie.naver.com//movie/bi/mi/basic.nhn?code=177608\n",
      "스프링 브레이커스-https://movie.naver.com//movie/bi/mi/basic.nhn?code=92005\n",
      "십계-https://movie.naver.com//movie/bi/mi/basic.nhn?code=10064\n",
      "아이 캔 온리 이매진-https://movie.naver.com//movie/bi/mi/basic.nhn?code=169647\n",
      "알제리 전투-https://movie.naver.com//movie/bi/mi/basic.nhn?code=10378\n",
      "제로 다크 서티-https://movie.naver.com//movie/bi/mi/basic.nhn?code=85141\n",
      "제리 맥과이어-https://movie.naver.com//movie/bi/mi/basic.nhn?code=17942\n",
      "톰보이-https://movie.naver.com//movie/bi/mi/basic.nhn?code=85825\n",
      "트립 투 이탈리아-https://movie.naver.com//movie/bi/mi/basic.nhn?code=119272\n",
      "피아니스트-https://movie.naver.com//movie/bi/mi/basic.nhn?code=35187\n",
      "거룩한 분노-https://movie.naver.com//movie/bi/mi/basic.nhn?code=162098\n",
      "나의 산티아고-https://movie.naver.com//movie/bi/mi/basic.nhn?code=146311\n",
      "다운폴-https://movie.naver.com//movie/bi/mi/basic.nhn?code=39462\n",
      "닥터 슬립-https://movie.naver.com//movie/bi/mi/basic.nhn?code=185912\n",
      "더 파티-https://movie.naver.com//movie/bi/mi/basic.nhn?code=159110\n",
      "미스 사이공: 25주년 특별 공연-https://movie.naver.com//movie/bi/mi/basic.nhn?code=155123\n",
      "베를린 천사의 시-https://movie.naver.com//movie/bi/mi/basic.nhn?code=10568\n",
      "분노의 질주: 홉스&쇼-https://movie.naver.com//movie/bi/mi/basic.nhn?code=182355\n",
      "비투스-https://movie.naver.com//movie/bi/mi/basic.nhn?code=62390\n",
      "영원과 하루-https://movie.naver.com//movie/bi/mi/basic.nhn?code=21133\n",
      "위대한 쇼맨-https://movie.naver.com//movie/bi/mi/basic.nhn?code=106360\n",
      "쥬만지: 넥스트 레벨-https://movie.naver.com//movie/bi/mi/basic.nhn?code=187349\n",
      "포드 V 페라리-https://movie.naver.com//movie/bi/mi/basic.nhn?code=181710\n"
     ]
    }
   ],
   "source": [
    "soup = BeautifulSoup(html_str, \"html.parser\")\n",
    "#print(soup.body)\n",
    "current_movies = soup.body.select(\n",
    "    \"ul.lst_detail_t1 > li > dl.lst_dsc > dt.tit > a\")\n",
    "current_movie_list = []\n",
    "#https://movie.naver.com/\n",
    "\n",
    "for movie in current_movies :\n",
    "    element = {\n",
    "        \"href\": \"https://movie.naver.com/\" +movie['href'],\n",
    "        \"title\":movie.text\n",
    "    }\n",
    "    current_movie_list.append(element)\n",
    "\n",
    "for i in current_movie_list:\n",
    "    print(\"{title}-{href}\".format_map(i))"
   ]
  },
  {
   "cell_type": "code",
   "execution_count": 22,
   "metadata": {},
   "outputs": [
    {
     "name": "stdout",
     "output_type": "stream",
     "text": [
      "................................................................................................Download complete.\n"
     ]
    }
   ],
   "source": [
    "# 이미지 다운로드 \n",
    "# ul.lst_detail_t1 > li -> img \n",
    "# img 태그의 속성 src, alt(대체 텍스트)\n",
    "# 저장 디렉터리 확인\n",
    "import os\n",
    "import re # 정규표현식\n",
    "from urllib.request import urlretrieve\n",
    "if not os.path.exists(\"d:/data_science/crawl\"): #directory 없으면\n",
    "    os.makedirs(\"d:/data_science/crawl\")\n",
    "\n",
    "current_movie_poster_list = soup.body.select(\"ul.lst_detail_t1 > li > div.thumb > a > img\")\n",
    "\n",
    "#파일명으로 사용할 수 없는 문자를 제거\n",
    "for movie in current_movie_poster_list:\n",
    "    img_tag = movie\n",
    "    title = img_tag['alt']\n",
    "    title = re.sub( r\"[\\/:*?<>|.]\", \"-\", title.strip())\n",
    "#    print(\"정제된 제목:\", title)\n",
    "    src = img_tag['src'] # image address\n",
    "    target = \"d:/data_science/crawl/{}.jpt\".format(title)\n",
    "    \n",
    "    # image download : urlretrieve\n",
    "    urlretrieve(src, target)\n",
    "    print(\".\", end=\"\")\n",
    "else:\n",
    "    print(\"Download complete.\")"
   ]
  },
  {
   "cell_type": "code",
   "execution_count": 32,
   "metadata": {
    "collapsed": true
   },
   "outputs": [
    {
     "name": "stdout",
     "output_type": "stream",
     "text": [
      "<li>\n",
      "<div class=\"thumb\">\n",
      "<a href=\"/movie/bi/mi/basic.nhn?code=195430\"><img alt=\"언힌지드\" onerror=\"this.src='https://ssl.pstatic.net/static/movie/2012/09/dft_img99x141.png'\" src=\"https://movie-phinf.pstatic.net/20200921_162/1600656591925MYK32_JPEG/movie_image.jpg?type=m99_141_2\"/></a><!-- N=a:sol.img,r:1,i:195430 -->\n",
      "</div>\n",
      "<dl class=\"lst_dsc\">\n",
      "<dt class=\"tit\">\n",
      "<span class=\"ico_rating_18\">청소년 관람불가</span>\n",
      "<a href=\"/movie/bi/mi/basic.nhn?code=195430\">언힌지드</a>\n",
      "<!-- N=a:sol.title,r:1,i:195430 -->\n",
      "</dt>\n",
      "<dd class=\"star\">\n",
      "<dl class=\"info_exp\">\n",
      "<dt class=\"tit_t1\">예매율</dt>\n",
      "<dd>\n",
      "<div class=\"star_t1 b_star\">\n",
      "<span class=\"num\">0.06</span><span class=\"txt\">%</span>\n",
      "</div>\n",
      "<span class=\"split\">|</span>\n",
      "</dd>\n",
      "<dt class=\"tit_t2\">기대지수</dt>\n",
      "<dd>\n",
      "<div class=\"star_t1\">\n",
      "<span class=\"ico_want\">보고싶어요</span><em class=\"exp_cnt\">947</em><span class=\"ico_dnwant\">글쎄요</span><em class=\"exp_cnt\">73</em>\n",
      "</div>\n",
      "</dd>\n",
      "</dl>\n",
      "</dd>\n",
      "<dd>\n",
      "<dl class=\"info_txt1\">\n",
      "<dt class=\"tit_t1\">개요</dt>\n",
      "<dd>\n",
      "<span class=\"link_txt\">\n",
      "<a href=\"/movie/sdb/browsing/bmovie.nhn?genre=7\">스릴러</a><!-- N=a:sol.genre,r:1 -->, \r\n",
      "\t\t\t\t\t\t\t\t\r\n",
      "\t\t\t\t\t\t\t\t\t<a href=\"/movie/sdb/browsing/bmovie.nhn?genre=16\">범죄</a><!-- N=a:sol.genre,r:2 -->\n",
      "</span>\n",
      "<span class=\"split\">|</span>\r\n",
      "\t\t\t\t\t\t\t\t90분\r\n",
      "\t\t\t\t\t\t\t\r\n",
      "\t\t\t\t\t\t\t\r\n",
      "\t\t\t\t\t\t\t\r\n",
      "\t\t\t\t\t\t\t\t<span class=\"split\">|</span>\r\n",
      "\t\t\t\t\t\t\t\t2020.10.07 개봉\r\n",
      "\t\t\t\t\t\t\t\r\n",
      "\t\t\t\t\t\t\t\r\n",
      "\t\t\t\t\t\t</dd>\n",
      "<dt class=\"tit_t2\">감독</dt>\n",
      "<dd>\n",
      "<span class=\"link_txt\">\n",
      "<a href=\"/movie/bi/pi/basic.nhn?code=156335\">데릭 보트</a><!-- N=a:sol.director,r:1 -->\n",
      "</span>\n",
      "</dd>\n",
      "<dt class=\"tit_t3\">출연</dt>\n",
      "<dd>\n",
      "<span class=\"link_txt\">\n",
      "<a href=\"/movie/bi/pi/basic.nhn?code=1383\">러셀 크로우</a><!-- N=a:sol.actor,r:1 -->, \r\n",
      "\t\t\t\t\t\t\t\t\r\n",
      "\t\t\t\t\t\t\t\t\t<a href=\"/movie/bi/pi/basic.nhn?code=360567\">카렌 피스토리우스</a><!-- N=a:sol.actor,r:2 -->, \r\n",
      "\t\t\t\t\t\t\t\t\r\n",
      "\t\t\t\t\t\t\t\t\t<a href=\"/movie/bi/pi/basic.nhn?code=350761\">가브리엘 베이트먼</a><!-- N=a:sol.actor,r:3 -->\n",
      "</span>\n",
      "</dd>\n",
      "</dl>\n",
      "</dd>\n",
      "<dd class=\"info_t1\">\n",
      "<div class=\"btn_area\">\n",
      "<a class=\"btn_rsv\" href=\"/movie/bi/mi/reserve.nhn?code=195430\">예매하기</a><!-- N=a:sol.ticket,r:1,i:195430 -->\n",
      "<span class=\"btn_t1\">\n",
      "<a class=\"item1\" href=\"/movie/bi/mi/photoView.nhn?code=195430\">포토보기</a><!-- N=a:sol.photo,r:1,i:195430 -->\n",
      "<a class=\"item2\" href=\"/movie/bi/mi/mediaView.nhn?code=195430&amp;mid=47259#tab\">예고편</a><!-- N=a:sol.trailer,r:1,i:195430 -->\n",
      "<a class=\"item4\" href=\"/movie/bi/mi/mediaView.nhn?code=195430&amp;mid=47369#tab\">메이킹</a><!-- N=a:sol.making,r:1,i:195430 -->\n",
      "</span>\n",
      "</div>\n",
      "</dd>\n",
      "</dl>\n",
      "</li>\n"
     ]
    }
   ],
   "source": [
    "# 연습\n",
    "# 네이버 영화에서 개뵹예정영화\n",
    "# https://movie.naver.com/movie/running/premovie.nhn\n",
    "# 개봉 예정 영화 정보를 수집\n",
    "\n",
    "import os\n",
    "import re\n",
    "from bs4 import BeautifulSoup\n",
    "from urllib.request import urlretrieve, urlopen\n",
    "\n",
    "if not os.path.exists(\"d:/data_science/premovie\"):\n",
    "    os.makedirs(\"d:/data_science/premovie\")\n",
    "\n",
    "req = urlopen(\"https://movie.naver.com/movie/running/premovie.nhn\")\n",
    "html_str =req.read().decode(\"utf-8\")\n",
    "soup = BeautifulSoup(html_str, \"html.parser\")\n",
    "\n",
    "current_premovies = soup.body.select(\"div#content > div.article > div.obj_section >div.lst_wrap > ul.lst_detail_t1 > li\")\n",
    "\n",
    "current_premovies_list = []\n",
    "for premovie in current_premovies:\n",
    "    a = premovie.select(\"dl.lst_dsc > dt.tit > a\")\n",
    "    info = {\n",
    "        \"titie\": a.text,\n",
    "        \"href\": \"https://movie.naver.com/\"+a[\"href\"]\n",
    "    }\n",
    "    current_premovies_list.append(info)\n",
    "\n",
    "for info in current_premovies_list:\n",
    "    print(\"{title}-{href}\".format_map(info))\n",
    "# 주의사항 \n",
    "# 각 홈페이지 마다 /robots.txt 라는 파일이 있는데 사용자에게 수집 가능 정보의 영역을 게시한다."
   ]
  },
  {
   "cell_type": "code",
   "execution_count": null,
   "metadata": {},
   "outputs": [],
   "source": []
  }
 ],
 "metadata": {
  "kernelspec": {
   "display_name": "Python 3",
   "language": "python",
   "name": "python3"
  },
  "language_info": {
   "codemirror_mode": {
    "name": "ipython",
    "version": 3
   },
   "file_extension": ".py",
   "mimetype": "text/x-python",
   "name": "python",
   "nbconvert_exporter": "python",
   "pygments_lexer": "ipython3",
   "version": "3.7.3"
  }
 },
 "nbformat": 4,
 "nbformat_minor": 4
}
