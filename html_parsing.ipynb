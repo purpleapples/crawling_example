{
 "cells": [
  {
   "cell_type": "markdown",
   "metadata": {},
   "source": [
    "# BeautifulSoup을 이용한 HTML 문서의 파싱\n",
    "- BeautifulSoup을 이용하면 텍스트 html을 DOM Tree 형태로 변환해준다."
   ]
  },
  {
   "cell_type": "code",
   "execution_count": 2,
   "metadata": {},
   "outputs": [],
   "source": [
    "from bs4 import BeautifulSoup"
   ]
  },
  {
   "cell_type": "code",
   "execution_count": 4,
   "metadata": {
    "scrolled": true
   },
   "outputs": [
    {
     "name": "stdout",
     "output_type": "stream",
     "text": [
      "<!DOCTYPE html>\n",
      "<html lang=\"en\">\n",
      "<head>\n",
      "    <meta charset=\"UTF-8\">\n",
      "    <meta name=\"viewport\" content=\"width=device-width, initial-scale=1.0\">\n",
      "    <title>Sample HTML Page</title>\n",
      "</head>\n",
      "<body>\n",
      "    <div id=\"header\">\n",
      "        <h1>Sample Homepage</h1>\n",
      "        <ul class=\"nav\">\n",
      "            <li>home</li>\n",
      "            <li>About</li>\n",
      "            <li>Contact</li>\n",
      "        </ul>\n",
      "    </div>\n",
      "    <div id=\"content\">\n",
      "        <h1>Content Title</h1>\n",
      "        <p>Lorem ipsum dolor sit amet, consectetur adipiscing elit. Phasellus interdum.</p>\n",
      "        <ul class=\"list\">\n",
      "            <li>Comment 1</li>\n",
      "            <li>Comment 2</li>\n",
      "            <li>Comment 3</li>\n",
      "            <li>Comment 4</li>\n",
      "        </ul>\n",
      "    </div>\n",
      "    <div id=\"footer\">\n",
      "        &copy; Bit Academy\n",
      "    </div>\n",
      "</body>\n",
      "</html>\n"
     ]
    }
   ],
   "source": [
    "# sample html load\n",
    "\n",
    "with open('./data/sample.html') as f : \n",
    "    html_str = f.read()\n",
    "    print(html_str)"
   ]
  },
  {
   "cell_type": "code",
   "execution_count": 7,
   "metadata": {},
   "outputs": [
    {
     "name": "stdout",
     "output_type": "stream",
     "text": [
      "<class 'bs4.BeautifulSoup'>\n",
      "title tag :  <title>Sample HTML Page</title> <class 'bs4.element.Tag'>\n",
      "tag name :  title\n",
      "tag content :  Sample HTML Page\n"
     ]
    }
   ],
   "source": [
    "soup = BeautifulSoup(html_str)\n",
    "print(type(soup))\n",
    "# print title tag\n",
    "title_tag = soup.title\n",
    "print(\"title tag : \", title_tag, type(title_tag))\n",
    "print(\"tag name : \", title_tag.name)\n",
    "print(\"tag content : \", title_tag.text)"
   ]
  },
  {
   "cell_type": "code",
   "execution_count": 17,
   "metadata": {
    "collapsed": true
   },
   "outputs": [
    {
     "name": "stdout",
     "output_type": "stream",
     "text": [
      "html tag: html\n",
      "children of html: <list_iterator object at 0x00000250D82FDD30>\n",
      "child: head\n",
      "child: body\n",
      "body의 자손 노드: div\n",
      "body의 자손 노드: h1\n",
      "body의 자손 노드: ul\n",
      "body의 자손 노드: li\n",
      "body의 자손 노드: li\n",
      "body의 자손 노드: li\n",
      "body의 자손 노드: div\n",
      "body의 자손 노드: h1\n",
      "body의 자손 노드: p\n",
      "body의 자손 노드: ul\n",
      "body의 자손 노드: li\n",
      "body의 자손 노드: li\n",
      "body의 자손 노드: li\n",
      "body의 자손 노드: li\n",
      "body의 자손 노드: div\n",
      "True\n"
     ]
    }
   ],
   "source": [
    "# html의 최상위 노드는 html\n",
    "html_tag = soup.html\n",
    "print(\"html tag:\", html_tag.name)\n",
    "# html 노드의 자식 : children\n",
    "children = html_tag.children\n",
    "print(\"children of html:\", children)\n",
    "\n",
    "from bs4.element import Tag\n",
    "# 자식 노드의 순회\n",
    "for child in children:\n",
    "    # NavigableString:  Tree 구조를 구성하기 위한 특수 구분 기호\n",
    "    # Tag : html의 Tag\n",
    "    if isinstance(child, Tag):\n",
    "        print(\"child:\", child.name)\n",
    "\n",
    "for node in soup.body.descendants:    \n",
    "    if isinstance(node, Tag):\n",
    "        print(\"body의 자손 노드:\", node.name)\n",
    "# 부모 노드의 확인 \n",
    "print(soup.body.parent == soup.html)"
   ]
  },
  {
   "cell_type": "code",
   "execution_count": 20,
   "metadata": {},
   "outputs": [
    {
     "name": "stdout",
     "output_type": "stream",
     "text": [
      "html 내에 3개의 div가 있습니다.\n"
     ]
    }
   ],
   "source": [
    "# 검색\n",
    "# 문서 내 div 태그를 찾아봅시다.\n",
    "# divs = soup.body.find(\"div\") # find 는 1개 검색\n",
    "divs = soup.body.findAll(\"div\")\n",
    "#print(divs)\n",
    "print(\"html 내에 {}개의 div가 있습니다.\".format(len(divs)))"
   ]
  },
  {
   "cell_type": "code",
   "execution_count": 25,
   "metadata": {},
   "outputs": [
    {
     "name": "stdout",
     "output_type": "stream",
     "text": [
      "list item: Comment 1\n",
      "list item: Comment 2\n",
      "list item: Comment 3\n",
      "list item: Comment 4\n"
     ]
    }
   ],
   "source": [
    "# 속성을 가진 요소의 검새\n",
    "# class=list인 ul을 검색, 내부의 자식노드 내용을 출력\n",
    "list_ul = soup.body.find(\"ul\",{\"class\":\"list\"})\n",
    "#print(list_ul)\n",
    "for li in list_ul.children:\n",
    "    if isinstance(li, Tag):\n",
    "        print(\"list item:\", li.text)"
   ]
  },
  {
   "cell_type": "code",
   "execution_count": 28,
   "metadata": {},
   "outputs": [],
   "source": [
    "# CSS Selector를 지원한다.\n",
    "list_ul_children = soup.body.select(\"ul li\")\n",
    "#print(list_ul_children)   "
   ]
  },
  {
   "cell_type": "code",
   "execution_count": null,
   "metadata": {},
   "outputs": [],
   "source": []
  }
 ],
 "metadata": {
  "kernelspec": {
   "display_name": "Python 3",
   "language": "python",
   "name": "python3"
  },
  "language_info": {
   "codemirror_mode": {
    "name": "ipython",
    "version": 3
   },
   "file_extension": ".py",
   "mimetype": "text/x-python",
   "name": "python",
   "nbconvert_exporter": "python",
   "pygments_lexer": "ipython3",
   "version": "3.7.3"
  }
 },
 "nbformat": 4,
 "nbformat_minor": 4
}
