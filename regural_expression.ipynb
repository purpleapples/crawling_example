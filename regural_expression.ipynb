{
 "cells": [
  {
   "cell_type": "markdown",
   "metadata": {},
   "source": [
    "### 정규표현식\n",
    "\n",
    "#### 사용법\n",
    "\n",
    "- 패턴 컴파일\n",
    "- 패턴 객체가 가진 메서드로 매칭, 치환 작업 수행\n",
    "- 패턴 문자열은 r 접두어를 붙인다. (raw string)\n",
    "\n",
    "#### 파이썬 특화 메타 문자\n",
    "\n",
    "- \\d : 숫자 [0-9]\n",
    "- \\D : 숫자 아님  [^0-9]\n",
    "- \\s : 화이트스페이스 [\\t\\n\\r\\f\\v]\n",
    "- \\S : 화이트스페이스제외 [^\\t\\n\\r\\f\\v]\n",
    "- \\w : 문자 + 숫자 [A-Za-z0-9]\n",
    "- \\W : 문자 + 숫자 제외 [^A-Za-z0-9]\n",
    "- []: 문자 1개의 패턴(or)\n",
    "- {시작, 끝} : 길이의 제한"
   ]
  },
  {
   "cell_type": "code",
   "execution_count": 7,
   "metadata": {},
   "outputs": [
    {
     "name": "stdout",
     "output_type": "stream",
     "text": [
      "None\n",
      "<re.Match object; span=(0, 4), match='Life'>\n",
      "MATCH: [a-z]+ ? None\n",
      "MATCH: [A-Za-z]+ ? <re.Match object; span=(0, 4), match='Life'>\n",
      "Life\n"
     ]
    }
   ],
   "source": [
    "# 매칭 작업 : 처음부터 패턴이 일치하는지 확인\n",
    "source = \"Life is too short, you need Python\"\n",
    "\n",
    "# 방법 1. 컴파일 후 매칭\n",
    "import re\n",
    "\n",
    "p = re.compile(r\"P[a-z]+\")\n",
    "print(p.match(source))\n",
    "\n",
    "p = re.compile(r\"L[a-z]+\")\n",
    "print(p.match(source))\n",
    "\n",
    "# 방법 2. 축약형\n",
    "print(\"MATCH: [a-z]+ ?\", re.match(r\"[a-z]+\",source))\n",
    "print(\"MATCH: [A-Za-z]+ ?\", re.match(r\"[A-Za-z]+\", source))\n",
    "\n",
    "# 매치된 내용은 group 메서드로 추출\n",
    "print(re.match(r\"[A-Za-z]+\", source).group())"
   ]
  },
  {
   "cell_type": "code",
   "execution_count": 11,
   "metadata": {},
   "outputs": [
    {
     "name": "stdout",
     "output_type": "stream",
     "text": [
      "<re.Match object; span=(7, 13), match='Python'>\n",
      "<re.Match object; span=(7, 13), match='Python'>\n",
      "['Paint', 'Perl', 'Python']\n",
      "<callable_iterator object at 0x000001F9880F5710>\n",
      "<re.Match object; span=(0, 5), match='Paint'> Paint\n",
      "<re.Match object; span=(23, 27), match='Perl'> Perl\n",
      "<re.Match object; span=(33, 39), match='Python'> Python\n"
     ]
    }
   ],
   "source": [
    "source = \"Hello, Python\"\n",
    "\n",
    "# 내부에서 Python 내용 찾기\n",
    "print(re.search(r\"Python\", source))\n",
    "\n",
    "# 기본적으로 정규식 패턴은 대소문자를 구분한다.\n",
    "print(re.search(r\"python\", source, re.IGNORECASE)) # 대소문자 구별 무효화\n",
    "\n",
    "source = \"Paint C JavaScript 123 Perl Java Python Ruby\"\n",
    "# p로 시작하고 뒤에 소문자가 붙은 단어를 추출\n",
    "\n",
    "# findall의 사용법 : 매칭된 모든 문자열을 리스트로 반환\n",
    "words = re.findall(r\"\\bp\\w+\", source, re.IGNORECASE)\n",
    "print(words)\n",
    "\n",
    "# finditer : iterator 반환\n",
    "it = re.finditer(r\"\\bp\\w+\", source, re.IGNORECASE)\n",
    "print(it)\n",
    "                   \n",
    "for x in it:\n",
    "    print(x, x.group())"
   ]
  },
  {
   "cell_type": "code",
   "execution_count": 12,
   "metadata": {},
   "outputs": [
    {
     "name": "stdout",
     "output_type": "stream",
     "text": [
      "['대한민국', '세종대왕', '훈민정음']\n"
     ]
    }
   ],
   "source": [
    "# 한글 정규식 패턴 [ㄱ-힣]\n",
    "source = \"English 대한민국 Japan 세종대왕 China 훈민정음\"\n",
    "p = re.compile(r\"[ㄱ-힣]+\") # Unicode\n",
    "\n",
    "print(p.findall(source))\n",
    "               "
   ]
  },
  {
   "cell_type": "code",
   "execution_count": 20,
   "metadata": {},
   "outputs": [
    {
     "name": "stdout",
     "output_type": "stream",
     "text": [
      "<re.Match object; span=(0, 13), match='010-1234-5678'> 010-1234-5678\n",
      "<re.Match object; span=(0, 13), match='010-1234-5678'> ('010', '1234', '5678')\n",
      "<re.Match object; span=(0, 13), match='010-1234-5678'> ('010', '1234', '5678')\n",
      "<re.Match object; span=(0, 13), match='010-1234-5678'> {'area': '010', 'exchange': '1234', 'number': '5678'}\n"
     ]
    }
   ],
   "source": [
    "# 예제: 전화번호 매칭\n",
    "# 010-1234-5678\n",
    "tel = re.compile(r\"(\\d{2,3})-(\\d{3,4})-(\\d{4})\")\n",
    "m = tel.match(\"010-1234-5678\")\n",
    "print(m,m.group())\n",
    "\n",
    "# 매칭된 객체를 그룹화 할 수 있다.\n",
    "tel = re.compile(r\"(\\d{2,3})-(\\d{3,4})-(\\d{4})\")\n",
    "m = tel.match(\"010-1234-5678\")\n",
    "print(m,m.groups())\n",
    "\n",
    "# 그룹화된 매칭 객체에 키를 붙일 수 있다.(?P<key>)\n",
    "tel = re.compile(r\"(?P<area>\\d{2,3})-(?P<exchange>\\d{3,4})-(?P<number>\\d{4})\")\n",
    "m = tel.match(\"010-1234-5678\")\n",
    "print(m,m.groups())\n",
    "print(m,m.groupdict()) # 키가 부여된 그룹 매칭은 groupdict로 받아올 수 있다."
   ]
  },
  {
   "cell_type": "code",
   "execution_count": 90,
   "metadata": {},
   "outputs": [
    {
     "name": "stdout",
     "output_type": "stream",
     "text": [
      "['skyun.nam@gmail.com', 'hong@hwalbin.org', 'lim@thieves.org', 'dooly@dooly.net']\n",
      "['.nam@', ' hong@', ' lim@', ' dooly@']\n"
     ]
    }
   ],
   "source": [
    "# 예제 : 이메일 주소 추출\n",
    "import re\n",
    "source = \"\"\"\n",
    "예제 주소록\n",
    "이 문자열에서 이메일 주소만 출력해 주세요\n",
    "남승균 skyun.nam@gmail.com\n",
    "홍길동 hong@hwalbin.org\n",
    "임꺽정 lim@thieves.org\n",
    "둘리 dooly@dooly.net\n",
    "\"\"\"\n",
    "pattern = re.compile(r\"[A-Za-z0-9.]*@[A-Za-z0-9]*.[A-Za-z]*\")\n",
    "emails = re.findall(pattern, source)\n",
    "print(emails)\n",
    "\n",
    "# re.MULTILINE, \n",
    "# ^, $ . 이 두 메타문자 같은 경우는 re.MULTILINE 이라는 속성이 들어가지 않으면\n",
    "# 문장전체에서 처음과 끝만 찾기때문에 re.MULTILINE 을 써야 line 별로 검색한다.\n",
    "pattern2 = re.compile(r\"^예\")\n",
    "email2 = re.findall(pattern2, source)\n",
    "\n",
    "# re.DOTALL, S\n",
    "# . 메타 문자가 줄바꿈 문자를 포함시켜 매치하고 싶을때 사용하는 옵션값\n",
    "pattern3 = re.compile(r\".[A-Za-z0-9]*@\",re.DOTALL)\n",
    "email3 = re.findall(pattern3, source)\n",
    "\n",
    "# re.VERBOSE\n",
    "# 정규식에 주석을 달 수 있게 해준다.\n",
    "# 아래와 같이\n",
    "charref = re.compile(r\"\"\"\n",
    " &[#]                # Start of a numeric entity reference\n",
    " (\n",
    "     0[0-7]+         # Octal form\n",
    "   | [0-9]+          # Decimal form\n",
    "   | x[0-9a-fA-F]+   # Hexadecimal form\n",
    " )\n",
    " ;                   # Trailing semicolon\n",
    "\"\"\", re.VERBOSE)\n"
   ]
  },
  {
   "cell_type": "code",
   "execution_count": 82,
   "metadata": {
    "scrolled": true
   },
   "outputs": [
    {
     "name": "stdout",
     "output_type": "stream",
     "text": [
      "pattern Split: ['사과', '오렌지', '바나나', '토마토', '수박']\n",
      "Pattern sub: 사과,오렌지,바나나,토마토,수박\n"
     ]
    }
   ],
   "source": [
    "# split과 sub(치환)\n",
    "# str이 가진 split과 replace는 문자열 완전 매칭으로 제한된 기능만 수행\n",
    "source = \"사과 오렌지: 바나나. 토마토|수박\"\n",
    "pattern = r\"[ :|.]+\" # 공백, :, |, . 을 분절 기준 문자로 split\n",
    "print(\"pattern Split:\", re.split(pattern, source))\n",
    "\n",
    "# source 문자열 내의 pattern 매칭 문자열을 , 시환\n",
    "print(\"Pattern sub:\", re.sub(pattern, \",\", source ) )"
   ]
  },
  {
   "cell_type": "code",
   "execution_count": 4,
   "metadata": {},
   "outputs": [],
   "source": [
    "# 외부 모듈을 이용한 python 재귀표현\n",
    "# regular expression은 \n",
    "source =\"\"\"\n",
    "Forfeit the game\n",
    "Before somebody else\n",
    "Takes you out of the frame\n",
    "And puts your name to shame\n",
    "Cover up your face\n",
    "You can't run the race\n",
    "The pace is too fast\n",
    "You just won't last\n",
    "You love the way I look at you\n",
    "While taking pleasure in the awful things you put me through\n",
    "You take away if I give in\n",
    "My life, my pride is broken\n",
    "You like to think you're never wrong\n",
    "(You live what you've learned)\n",
    "You have to act like you're someone\n",
    "(You live what you've learned)\n",
    "You want someone to hurt like you\n",
    "(You live what you've learned)\n",
    "You want to share what you've been through\n",
    "(You live what you've learned)\"\"\"\n",
    "import regex\n",
    "# regax는 re module에 기능을 추가한 것이다. \n",
    "# Case-Sensitive 와 Case-Insensitive 를 지원한다.\n",
    "# Zero-width match가 정확하게 잡힌다. Zero-width 는 \"\"를 말한다. \n",
    "# Nested sets 과 set 연산이 지원된다.\n",
    "# Nested set : [[a-z]--[aeiou]]\n",
    "# version 0 에서는 : [ ]안에서 [a-z]--[aeiou] 가 문자열로 해석되지만\n",
    "# version 1 에서는 [[a-z]--[aeiou]] []는 전부 set으로 인식된다.\n",
    "# b(?:m|(?R))*e\n",
    "\n"
   ]
  },
  {
   "cell_type": "code",
   "execution_count": null,
   "metadata": {},
   "outputs": [],
   "source": []
  },
  {
   "cell_type": "code",
   "execution_count": null,
   "metadata": {},
   "outputs": [],
   "source": []
  }
 ],
 "metadata": {
  "kernelspec": {
   "display_name": "Python 3",
   "language": "python",
   "name": "python3"
  },
  "language_info": {
   "codemirror_mode": {
    "name": "ipython",
    "version": 3
   },
   "file_extension": ".py",
   "mimetype": "text/x-python",
   "name": "python",
   "nbconvert_exporter": "python",
   "pygments_lexer": "ipython3",
   "version": "3.7.3"
  }
 },
 "nbformat": 4,
 "nbformat_minor": 4
}
